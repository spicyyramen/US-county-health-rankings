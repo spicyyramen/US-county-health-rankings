{
 "cells": [
  {
   "cell_type": "markdown",
   "id": "fc1e20fc-a209-45fe-a01b-315cc6b7c1e5",
   "metadata": {},
   "source": [
    "# Import Dependencies"
   ]
  },
  {
   "cell_type": "code",
   "execution_count": 1,
   "id": "dbb4fb12-d159-47a8-8bdf-91e8ad623164",
   "metadata": {},
   "outputs": [],
   "source": [
    "import pandas as pd"
   ]
  },
  {
   "cell_type": "markdown",
   "id": "0224c6a2-3ad6-4f52-b1a5-073c4f26fb36",
   "metadata": {},
   "source": [
    "# Import Dataset"
   ]
  },
  {
   "cell_type": "code",
   "execution_count": 12,
   "id": "7f840068-1a2e-4c08-941e-73e2d5eca71e",
   "metadata": {},
   "outputs": [
    {
     "data": {
      "text/html": [
       "<div>\n",
       "<style scoped>\n",
       "    .dataframe tbody tr th:only-of-type {\n",
       "        vertical-align: middle;\n",
       "    }\n",
       "\n",
       "    .dataframe tbody tr th {\n",
       "        vertical-align: top;\n",
       "    }\n",
       "\n",
       "    .dataframe thead th {\n",
       "        text-align: right;\n",
       "    }\n",
       "</style>\n",
       "<table border=\"1\" class=\"dataframe\">\n",
       "  <thead>\n",
       "    <tr style=\"text-align: right;\">\n",
       "      <th></th>\n",
       "      <th>State</th>\n",
       "      <th>County</th>\n",
       "      <th>State code</th>\n",
       "      <th>County code</th>\n",
       "      <th>Year span</th>\n",
       "      <th>Measure name</th>\n",
       "      <th>Measure id</th>\n",
       "      <th>Numerator</th>\n",
       "      <th>Denominator</th>\n",
       "      <th>Raw value</th>\n",
       "      <th>Confidence Interval Lower Bound</th>\n",
       "      <th>Confidence Interval Upper Bound</th>\n",
       "      <th>Data Release Year</th>\n",
       "      <th>fipscode</th>\n",
       "    </tr>\n",
       "  </thead>\n",
       "  <tbody>\n",
       "    <tr>\n",
       "      <th>0</th>\n",
       "      <td>US</td>\n",
       "      <td>United States</td>\n",
       "      <td>0.0</td>\n",
       "      <td>0.0</td>\n",
       "      <td>2003-2005</td>\n",
       "      <td>Violent crime rate</td>\n",
       "      <td>43.0</td>\n",
       "      <td>1328750.667</td>\n",
       "      <td>274877117.0</td>\n",
       "      <td>483.398066</td>\n",
       "      <td>NaN</td>\n",
       "      <td>NaN</td>\n",
       "      <td>NaN</td>\n",
       "      <td>0.0</td>\n",
       "    </tr>\n",
       "    <tr>\n",
       "      <th>1</th>\n",
       "      <td>US</td>\n",
       "      <td>United States</td>\n",
       "      <td>0.0</td>\n",
       "      <td>0.0</td>\n",
       "      <td>2004-2006</td>\n",
       "      <td>Violent crime rate</td>\n",
       "      <td>43.0</td>\n",
       "      <td>1340928.667</td>\n",
       "      <td>277612778.5</td>\n",
       "      <td>483.021233</td>\n",
       "      <td>NaN</td>\n",
       "      <td>NaN</td>\n",
       "      <td>NaN</td>\n",
       "      <td>0.0</td>\n",
       "    </tr>\n",
       "    <tr>\n",
       "      <th>2</th>\n",
       "      <td>US</td>\n",
       "      <td>United States</td>\n",
       "      <td>0.0</td>\n",
       "      <td>0.0</td>\n",
       "      <td>2005-2007</td>\n",
       "      <td>Violent crime rate</td>\n",
       "      <td>43.0</td>\n",
       "      <td>1355853.167</td>\n",
       "      <td>280407694.7</td>\n",
       "      <td>483.529230</td>\n",
       "      <td>NaN</td>\n",
       "      <td>NaN</td>\n",
       "      <td>2010.0</td>\n",
       "      <td>0.0</td>\n",
       "    </tr>\n",
       "    <tr>\n",
       "      <th>3</th>\n",
       "      <td>US</td>\n",
       "      <td>United States</td>\n",
       "      <td>0.0</td>\n",
       "      <td>0.0</td>\n",
       "      <td>2006-2008</td>\n",
       "      <td>Violent crime rate</td>\n",
       "      <td>43.0</td>\n",
       "      <td>1366928.333</td>\n",
       "      <td>287614567.7</td>\n",
       "      <td>475.263942</td>\n",
       "      <td>NaN</td>\n",
       "      <td>NaN</td>\n",
       "      <td>2011.0</td>\n",
       "      <td>0.0</td>\n",
       "    </tr>\n",
       "    <tr>\n",
       "      <th>4</th>\n",
       "      <td>US</td>\n",
       "      <td>United States</td>\n",
       "      <td>0.0</td>\n",
       "      <td>0.0</td>\n",
       "      <td>2007-2009</td>\n",
       "      <td>Violent crime rate</td>\n",
       "      <td>43.0</td>\n",
       "      <td>1339439.333</td>\n",
       "      <td>292576281.2</td>\n",
       "      <td>457.808585</td>\n",
       "      <td>NaN</td>\n",
       "      <td>NaN</td>\n",
       "      <td>2012.0</td>\n",
       "      <td>0.0</td>\n",
       "    </tr>\n",
       "    <tr>\n",
       "      <th>...</th>\n",
       "      <td>...</td>\n",
       "      <td>...</td>\n",
       "      <td>...</td>\n",
       "      <td>...</td>\n",
       "      <td>...</td>\n",
       "      <td>...</td>\n",
       "      <td>...</td>\n",
       "      <td>...</td>\n",
       "      <td>...</td>\n",
       "      <td>...</td>\n",
       "      <td>...</td>\n",
       "      <td>...</td>\n",
       "      <td>...</td>\n",
       "      <td>...</td>\n",
       "    </tr>\n",
       "    <tr>\n",
       "      <th>303859</th>\n",
       "      <td>WY</td>\n",
       "      <td>Weston County</td>\n",
       "      <td>56.0</td>\n",
       "      <td>45.0</td>\n",
       "      <td>2007</td>\n",
       "      <td>Daily fine particulate matter</td>\n",
       "      <td>125.0</td>\n",
       "      <td>NaN</td>\n",
       "      <td>NaN</td>\n",
       "      <td>9.370000</td>\n",
       "      <td>NaN</td>\n",
       "      <td>NaN</td>\n",
       "      <td>NaN</td>\n",
       "      <td>56045.0</td>\n",
       "    </tr>\n",
       "    <tr>\n",
       "      <th>303860</th>\n",
       "      <td>WY</td>\n",
       "      <td>Weston County</td>\n",
       "      <td>56.0</td>\n",
       "      <td>45.0</td>\n",
       "      <td>2008</td>\n",
       "      <td>Daily fine particulate matter</td>\n",
       "      <td>125.0</td>\n",
       "      <td>NaN</td>\n",
       "      <td>NaN</td>\n",
       "      <td>7.450000</td>\n",
       "      <td>NaN</td>\n",
       "      <td>NaN</td>\n",
       "      <td>2013.0</td>\n",
       "      <td>56045.0</td>\n",
       "    </tr>\n",
       "    <tr>\n",
       "      <th>303861</th>\n",
       "      <td>WY</td>\n",
       "      <td>Weston County</td>\n",
       "      <td>56.0</td>\n",
       "      <td>45.0</td>\n",
       "      <td>2009</td>\n",
       "      <td>Daily fine particulate matter</td>\n",
       "      <td>125.0</td>\n",
       "      <td>NaN</td>\n",
       "      <td>NaN</td>\n",
       "      <td>12.770000</td>\n",
       "      <td>NaN</td>\n",
       "      <td>NaN</td>\n",
       "      <td>NaN</td>\n",
       "      <td>56045.0</td>\n",
       "    </tr>\n",
       "    <tr>\n",
       "      <th>303862</th>\n",
       "      <td>WY</td>\n",
       "      <td>Weston County</td>\n",
       "      <td>56.0</td>\n",
       "      <td>45.0</td>\n",
       "      <td>2010</td>\n",
       "      <td>Daily fine particulate matter</td>\n",
       "      <td>125.0</td>\n",
       "      <td>NaN</td>\n",
       "      <td>NaN</td>\n",
       "      <td>12.110000</td>\n",
       "      <td>NaN</td>\n",
       "      <td>NaN</td>\n",
       "      <td>NaN</td>\n",
       "      <td>56045.0</td>\n",
       "    </tr>\n",
       "    <tr>\n",
       "      <th>303863</th>\n",
       "      <td>WY</td>\n",
       "      <td>Weston County</td>\n",
       "      <td>56.0</td>\n",
       "      <td>45.0</td>\n",
       "      <td>2011</td>\n",
       "      <td>Daily fine particulate matter</td>\n",
       "      <td>125.0</td>\n",
       "      <td>NaN</td>\n",
       "      <td>NaN</td>\n",
       "      <td>10.710000</td>\n",
       "      <td>NaN</td>\n",
       "      <td>NaN</td>\n",
       "      <td>2014.0</td>\n",
       "      <td>56045.0</td>\n",
       "    </tr>\n",
       "  </tbody>\n",
       "</table>\n",
       "<p>303864 rows × 14 columns</p>\n",
       "</div>"
      ],
      "text/plain": [
       "       State         County  State code  County code  Year span  \\\n",
       "0         US  United States         0.0          0.0  2003-2005   \n",
       "1         US  United States         0.0          0.0  2004-2006   \n",
       "2         US  United States         0.0          0.0  2005-2007   \n",
       "3         US  United States         0.0          0.0  2006-2008   \n",
       "4         US  United States         0.0          0.0  2007-2009   \n",
       "...      ...            ...         ...          ...        ...   \n",
       "303859    WY  Weston County        56.0         45.0       2007   \n",
       "303860    WY  Weston County        56.0         45.0       2008   \n",
       "303861    WY  Weston County        56.0         45.0       2009   \n",
       "303862    WY  Weston County        56.0         45.0       2010   \n",
       "303863    WY  Weston County        56.0         45.0       2011   \n",
       "\n",
       "                         Measure name  Measure id    Numerator  Denominator  \\\n",
       "0                  Violent crime rate        43.0  1328750.667  274877117.0   \n",
       "1                  Violent crime rate        43.0  1340928.667  277612778.5   \n",
       "2                  Violent crime rate        43.0  1355853.167  280407694.7   \n",
       "3                  Violent crime rate        43.0  1366928.333  287614567.7   \n",
       "4                  Violent crime rate        43.0  1339439.333  292576281.2   \n",
       "...                               ...         ...          ...          ...   \n",
       "303859  Daily fine particulate matter       125.0          NaN          NaN   \n",
       "303860  Daily fine particulate matter       125.0          NaN          NaN   \n",
       "303861  Daily fine particulate matter       125.0          NaN          NaN   \n",
       "303862  Daily fine particulate matter       125.0          NaN          NaN   \n",
       "303863  Daily fine particulate matter       125.0          NaN          NaN   \n",
       "\n",
       "         Raw value  Confidence Interval Lower Bound  \\\n",
       "0       483.398066                              NaN   \n",
       "1       483.021233                              NaN   \n",
       "2       483.529230                              NaN   \n",
       "3       475.263942                              NaN   \n",
       "4       457.808585                              NaN   \n",
       "...            ...                              ...   \n",
       "303859    9.370000                              NaN   \n",
       "303860    7.450000                              NaN   \n",
       "303861   12.770000                              NaN   \n",
       "303862   12.110000                              NaN   \n",
       "303863   10.710000                              NaN   \n",
       "\n",
       "        Confidence Interval Upper Bound  Data Release Year  fipscode  \n",
       "0                                   NaN                NaN       0.0  \n",
       "1                                   NaN                NaN       0.0  \n",
       "2                                   NaN             2010.0       0.0  \n",
       "3                                   NaN             2011.0       0.0  \n",
       "4                                   NaN             2012.0       0.0  \n",
       "...                                 ...                ...       ...  \n",
       "303859                              NaN                NaN   56045.0  \n",
       "303860                              NaN             2013.0   56045.0  \n",
       "303861                              NaN                NaN   56045.0  \n",
       "303862                              NaN                NaN   56045.0  \n",
       "303863                              NaN             2014.0   56045.0  \n",
       "\n",
       "[303864 rows x 14 columns]"
      ]
     },
     "execution_count": 12,
     "metadata": {},
     "output_type": "execute_result"
    }
   ],
   "source": [
    "data = pd.read_csv('County_Health_Rankings.csv')\n",
    "data"
   ]
  },
  {
   "cell_type": "markdown",
   "id": "fe665f8e-4a16-48eb-8284-2005068c18f3",
   "metadata": {},
   "source": [
    "# Explore Dataset"
   ]
  },
  {
   "cell_type": "markdown",
   "id": "0aa054ed-1429-45e7-9713-0a0fe95a8ee3",
   "metadata": {},
   "source": [
    "### States Column"
   ]
  },
  {
   "cell_type": "code",
   "execution_count": 28,
   "id": "d0c2eaa2-707e-49e9-8117-0db5822ff507",
   "metadata": {},
   "outputs": [
    {
     "name": "stdout",
     "output_type": "stream",
     "text": [
      "There are 53 unique values in the State column\n"
     ]
    }
   ],
   "source": [
    "num_states = data['State'].nunique()\n",
    "\n",
    "print(f'There are {num_states} unique values in the State column')"
   ]
  },
  {
   "cell_type": "code",
   "execution_count": 23,
   "id": "330db107-1ab4-4bbb-a722-0236ab5231f1",
   "metadata": {},
   "outputs": [
    {
     "data": {
      "text/plain": [
       "array(['US', 'AL', 'AK', 'AZ', 'AR', 'CA', 'CO', 'CT', 'DE', 'DC', 'FL',\n",
       "       'GA', 'HI', 'ID', 'IL', 'IN', 'IA', 'KS', 'KY', 'LA', 'ME', 'MD',\n",
       "       'MA', 'MI', 'MN', 'MS', 'MO', 'MT', 'NE', 'NV', 'NH', 'NJ', 'NM',\n",
       "       'NY', 'NC', 'ND', 'OH', 'OK', 'OR', 'PA', 'RI', 'SC', 'SD', 'TN',\n",
       "       'TX', 'UT', 'VT', 'VA', 'WA', 'WV', 'WI', 'WY', 'PR', nan],\n",
       "      dtype=object)"
      ]
     },
     "execution_count": 23,
     "metadata": {},
     "output_type": "execute_result"
    }
   ],
   "source": [
    "data['State'].unique()"
   ]
  },
  {
   "cell_type": "markdown",
   "id": "6dfde248-8099-488d-ade8-537db780b8ba",
   "metadata": {},
   "source": [
    "### County Column"
   ]
  },
  {
   "cell_type": "code",
   "execution_count": 29,
   "id": "7436f5e5-61d4-45d5-b3db-489c1846fe36",
   "metadata": {},
   "outputs": [
    {
     "name": "stdout",
     "output_type": "stream",
     "text": [
      "There are 2008 unique values in the County column\n"
     ]
    }
   ],
   "source": [
    "num_counties = data['County'].nunique()\n",
    "print(f'There are {num_counties} unique values in the County column')"
   ]
  },
  {
   "cell_type": "code",
   "execution_count": 30,
   "id": "d2ff8545-1dd0-4e09-bf23-c3258ddf4822",
   "metadata": {},
   "outputs": [
    {
     "data": {
      "text/plain": [
       "array(['United States', 'Alabama', 'Autauga County', ..., nan,\n",
       "       'Prince of Wales-Outer Ketchikan',\n",
       "       'Skagway-Hoonah-Angoon Census Ar'], dtype=object)"
      ]
     },
     "execution_count": 30,
     "metadata": {},
     "output_type": "execute_result"
    }
   ],
   "source": [
    "data['County'].unique()"
   ]
  },
  {
   "cell_type": "markdown",
   "id": "6b3a3cd3-c394-4d68-808c-1535c0f8c6fe",
   "metadata": {},
   "source": [
    "### Measure Name"
   ]
  },
  {
   "cell_type": "code",
   "execution_count": 32,
   "id": "23a8a72d-4fb1-4033-ab4e-543d11a69072",
   "metadata": {},
   "outputs": [
    {
     "name": "stdout",
     "output_type": "stream",
     "text": [
      "There are 12 unique values in the Measure Name column\n"
     ]
    }
   ],
   "source": [
    "num_measures = data['Measure name'].nunique()\n",
    "print(f'There are {num_measures} unique values in the Measure Name column')"
   ]
  },
  {
   "cell_type": "code",
   "execution_count": 33,
   "id": "3344480b-6bcb-470e-9da1-49e1a65f8bab",
   "metadata": {},
   "outputs": [
    {
     "data": {
      "text/plain": [
       "array(['Violent crime rate', 'Unemployment', 'Children in poverty', nan,\n",
       "       'Diabetic screening', 'Mammography screening',\n",
       "       'Preventable hospital stays', 'Uninsured',\n",
       "       'Sexually transmitted infections', 'Physical inactivity',\n",
       "       'Adult obesity', 'Premature Death',\n",
       "       'Daily fine particulate matter'], dtype=object)"
      ]
     },
     "execution_count": 33,
     "metadata": {},
     "output_type": "execute_result"
    }
   ],
   "source": [
    "data['Measure name'].unique()"
   ]
  },
  {
   "cell_type": "markdown",
   "id": "ef4f5e96-bd0a-4209-a33a-c0f508766dd7",
   "metadata": {},
   "source": [
    "## Break down by Measures"
   ]
  },
  {
   "cell_type": "code",
   "execution_count": null,
   "id": "9d48c61c-edf1-4ce5-9aa3-64b00e1975ac",
   "metadata": {},
   "outputs": [],
   "source": []
  }
 ],
 "metadata": {
  "kernelspec": {
   "display_name": "Python 3",
   "language": "python",
   "name": "python3"
  },
  "language_info": {
   "codemirror_mode": {
    "name": "ipython",
    "version": 3
   },
   "file_extension": ".py",
   "mimetype": "text/x-python",
   "name": "python",
   "nbconvert_exporter": "python",
   "pygments_lexer": "ipython3",
   "version": "3.8.8"
  }
 },
 "nbformat": 4,
 "nbformat_minor": 5
}
