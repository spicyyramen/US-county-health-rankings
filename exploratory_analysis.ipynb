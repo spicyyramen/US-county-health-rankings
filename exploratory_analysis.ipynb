{
 "cells": [
  {
   "cell_type": "markdown",
   "id": "fc1e20fc-a209-45fe-a01b-315cc6b7c1e5",
   "metadata": {},
   "source": [
    "# Import Dependencies"
   ]
  },
  {
   "cell_type": "code",
   "execution_count": 141,
   "id": "dbb4fb12-d159-47a8-8bdf-91e8ad623164",
   "metadata": {},
   "outputs": [],
   "source": [
    "import pandas as pd\n",
    "import seaborn as sns\n",
    "import matplotlib.pyplot as plt\n",
    "\n",
    "from urllib.request import urlopen\n",
    "import json\n",
    "with urlopen('https://raw.githubusercontent.com/plotly/datasets/master/geojson-counties-fips.json') as response:\n",
    "    counties = json.load(response)"
   ]
  },
  {
   "cell_type": "markdown",
   "id": "0224c6a2-3ad6-4f52-b1a5-073c4f26fb36",
   "metadata": {},
   "source": [
    "# Import Dataset"
   ]
  },
  {
   "cell_type": "code",
   "execution_count": 265,
   "id": "5a8b323c-3d35-41e6-aff1-9ef8efcc716d",
   "metadata": {},
   "outputs": [],
   "source": [
    "# get preprocessed dataframe from separate file\n",
    "%run preprocessing.ipynb"
   ]
  },
  {
   "cell_type": "code",
   "execution_count": 266,
   "id": "b05b61b1-daf4-415f-af58-050eed761947",
   "metadata": {},
   "outputs": [
    {
     "data": {
      "text/html": [
       "<div>\n",
       "<style scoped>\n",
       "    .dataframe tbody tr th:only-of-type {\n",
       "        vertical-align: middle;\n",
       "    }\n",
       "\n",
       "    .dataframe tbody tr th {\n",
       "        vertical-align: top;\n",
       "    }\n",
       "\n",
       "    .dataframe thead th {\n",
       "        text-align: right;\n",
       "    }\n",
       "</style>\n",
       "<table border=\"1\" class=\"dataframe\">\n",
       "  <thead>\n",
       "    <tr style=\"text-align: right;\">\n",
       "      <th></th>\n",
       "      <th>State</th>\n",
       "      <th>County</th>\n",
       "      <th>State code</th>\n",
       "      <th>County code</th>\n",
       "      <th>Year span</th>\n",
       "      <th>Measure name</th>\n",
       "      <th>Measure id</th>\n",
       "      <th>Numerator</th>\n",
       "      <th>Denominator</th>\n",
       "      <th>Raw value</th>\n",
       "      <th>fipscode</th>\n",
       "      <th>FIPS Code</th>\n",
       "    </tr>\n",
       "  </thead>\n",
       "  <tbody>\n",
       "    <tr>\n",
       "      <th>0</th>\n",
       "      <td>US</td>\n",
       "      <td>United States</td>\n",
       "      <td>0</td>\n",
       "      <td>0</td>\n",
       "      <td>2003-2005</td>\n",
       "      <td>Violent crime rate</td>\n",
       "      <td>43</td>\n",
       "      <td>1.328751e+06</td>\n",
       "      <td>2.748771e+08</td>\n",
       "      <td>483.398066</td>\n",
       "      <td>0.0</td>\n",
       "      <td>00000</td>\n",
       "    </tr>\n",
       "    <tr>\n",
       "      <th>1</th>\n",
       "      <td>US</td>\n",
       "      <td>United States</td>\n",
       "      <td>0</td>\n",
       "      <td>0</td>\n",
       "      <td>2004-2006</td>\n",
       "      <td>Violent crime rate</td>\n",
       "      <td>43</td>\n",
       "      <td>1.340929e+06</td>\n",
       "      <td>2.776128e+08</td>\n",
       "      <td>483.021233</td>\n",
       "      <td>0.0</td>\n",
       "      <td>00000</td>\n",
       "    </tr>\n",
       "    <tr>\n",
       "      <th>2</th>\n",
       "      <td>US</td>\n",
       "      <td>United States</td>\n",
       "      <td>0</td>\n",
       "      <td>0</td>\n",
       "      <td>2005-2007</td>\n",
       "      <td>Violent crime rate</td>\n",
       "      <td>43</td>\n",
       "      <td>1.355853e+06</td>\n",
       "      <td>2.804077e+08</td>\n",
       "      <td>483.529230</td>\n",
       "      <td>0.0</td>\n",
       "      <td>00000</td>\n",
       "    </tr>\n",
       "    <tr>\n",
       "      <th>3</th>\n",
       "      <td>US</td>\n",
       "      <td>United States</td>\n",
       "      <td>0</td>\n",
       "      <td>0</td>\n",
       "      <td>2006-2008</td>\n",
       "      <td>Violent crime rate</td>\n",
       "      <td>43</td>\n",
       "      <td>1.366928e+06</td>\n",
       "      <td>2.876146e+08</td>\n",
       "      <td>475.263942</td>\n",
       "      <td>0.0</td>\n",
       "      <td>00000</td>\n",
       "    </tr>\n",
       "    <tr>\n",
       "      <th>4</th>\n",
       "      <td>US</td>\n",
       "      <td>United States</td>\n",
       "      <td>0</td>\n",
       "      <td>0</td>\n",
       "      <td>2007-2009</td>\n",
       "      <td>Violent crime rate</td>\n",
       "      <td>43</td>\n",
       "      <td>1.339439e+06</td>\n",
       "      <td>2.925763e+08</td>\n",
       "      <td>457.808585</td>\n",
       "      <td>0.0</td>\n",
       "      <td>00000</td>\n",
       "    </tr>\n",
       "    <tr>\n",
       "      <th>5</th>\n",
       "      <td>US</td>\n",
       "      <td>United States</td>\n",
       "      <td>0</td>\n",
       "      <td>0</td>\n",
       "      <td>2008-2010</td>\n",
       "      <td>Violent crime rate</td>\n",
       "      <td>43</td>\n",
       "      <td>1.295937e+06</td>\n",
       "      <td>2.989479e+08</td>\n",
       "      <td>433.499335</td>\n",
       "      <td>0.0</td>\n",
       "      <td>00000</td>\n",
       "    </tr>\n",
       "    <tr>\n",
       "      <th>6</th>\n",
       "      <td>US</td>\n",
       "      <td>United States</td>\n",
       "      <td>0</td>\n",
       "      <td>0</td>\n",
       "      <td>2009-2011</td>\n",
       "      <td>Violent crime rate</td>\n",
       "      <td>43</td>\n",
       "      <td>1.237998e+06</td>\n",
       "      <td>3.024210e+08</td>\n",
       "      <td>409.362388</td>\n",
       "      <td>0.0</td>\n",
       "      <td>00000</td>\n",
       "    </tr>\n",
       "    <tr>\n",
       "      <th>7</th>\n",
       "      <td>AL</td>\n",
       "      <td>Alabama</td>\n",
       "      <td>1</td>\n",
       "      <td>0</td>\n",
       "      <td>2003-2005</td>\n",
       "      <td>Violent crime rate</td>\n",
       "      <td>43</td>\n",
       "      <td>1.817483e+04</td>\n",
       "      <td>4.221248e+06</td>\n",
       "      <td>430.555907</td>\n",
       "      <td>1000.0</td>\n",
       "      <td>01000</td>\n",
       "    </tr>\n",
       "    <tr>\n",
       "      <th>8</th>\n",
       "      <td>AL</td>\n",
       "      <td>Alabama</td>\n",
       "      <td>1</td>\n",
       "      <td>0</td>\n",
       "      <td>2004-2006</td>\n",
       "      <td>Violent crime rate</td>\n",
       "      <td>43</td>\n",
       "      <td>1.767717e+04</td>\n",
       "      <td>4.042098e+06</td>\n",
       "      <td>437.326488</td>\n",
       "      <td>1000.0</td>\n",
       "      <td>01000</td>\n",
       "    </tr>\n",
       "    <tr>\n",
       "      <th>9</th>\n",
       "      <td>AL</td>\n",
       "      <td>Alabama</td>\n",
       "      <td>1</td>\n",
       "      <td>0</td>\n",
       "      <td>2005-2007</td>\n",
       "      <td>Violent crime rate</td>\n",
       "      <td>43</td>\n",
       "      <td>1.745817e+04</td>\n",
       "      <td>3.979110e+06</td>\n",
       "      <td>438.745515</td>\n",
       "      <td>1000.0</td>\n",
       "      <td>01000</td>\n",
       "    </tr>\n",
       "  </tbody>\n",
       "</table>\n",
       "</div>"
      ],
      "text/plain": [
       "  State         County  State code  County code  Year span  \\\n",
       "0    US  United States           0            0  2003-2005   \n",
       "1    US  United States           0            0  2004-2006   \n",
       "2    US  United States           0            0  2005-2007   \n",
       "3    US  United States           0            0  2006-2008   \n",
       "4    US  United States           0            0  2007-2009   \n",
       "5    US  United States           0            0  2008-2010   \n",
       "6    US  United States           0            0  2009-2011   \n",
       "7    AL        Alabama           1            0  2003-2005   \n",
       "8    AL        Alabama           1            0  2004-2006   \n",
       "9    AL        Alabama           1            0  2005-2007   \n",
       "\n",
       "         Measure name  Measure id     Numerator   Denominator   Raw value  \\\n",
       "0  Violent crime rate          43  1.328751e+06  2.748771e+08  483.398066   \n",
       "1  Violent crime rate          43  1.340929e+06  2.776128e+08  483.021233   \n",
       "2  Violent crime rate          43  1.355853e+06  2.804077e+08  483.529230   \n",
       "3  Violent crime rate          43  1.366928e+06  2.876146e+08  475.263942   \n",
       "4  Violent crime rate          43  1.339439e+06  2.925763e+08  457.808585   \n",
       "5  Violent crime rate          43  1.295937e+06  2.989479e+08  433.499335   \n",
       "6  Violent crime rate          43  1.237998e+06  3.024210e+08  409.362388   \n",
       "7  Violent crime rate          43  1.817483e+04  4.221248e+06  430.555907   \n",
       "8  Violent crime rate          43  1.767717e+04  4.042098e+06  437.326488   \n",
       "9  Violent crime rate          43  1.745817e+04  3.979110e+06  438.745515   \n",
       "\n",
       "   fipscode FIPS Code  \n",
       "0       0.0     00000  \n",
       "1       0.0     00000  \n",
       "2       0.0     00000  \n",
       "3       0.0     00000  \n",
       "4       0.0     00000  \n",
       "5       0.0     00000  \n",
       "6       0.0     00000  \n",
       "7    1000.0     01000  \n",
       "8    1000.0     01000  \n",
       "9    1000.0     01000  "
      ]
     },
     "execution_count": 266,
     "metadata": {},
     "output_type": "execute_result"
    }
   ],
   "source": [
    "df2.head(10)"
   ]
  },
  {
   "cell_type": "markdown",
   "id": "fe665f8e-4a16-48eb-8284-2005068c18f3",
   "metadata": {},
   "source": [
    "# Explore Dataset"
   ]
  },
  {
   "cell_type": "markdown",
   "id": "0aa054ed-1429-45e7-9713-0a0fe95a8ee3",
   "metadata": {},
   "source": [
    "### States Column"
   ]
  },
  {
   "cell_type": "code",
   "execution_count": 28,
   "id": "d0c2eaa2-707e-49e9-8117-0db5822ff507",
   "metadata": {},
   "outputs": [
    {
     "name": "stdout",
     "output_type": "stream",
     "text": [
      "There are 53 unique values in the State column\n"
     ]
    }
   ],
   "source": [
    "num_states = data['State'].nunique()\n",
    "\n",
    "print(f'There are {num_states} unique values in the State column')"
   ]
  },
  {
   "cell_type": "code",
   "execution_count": 23,
   "id": "330db107-1ab4-4bbb-a722-0236ab5231f1",
   "metadata": {},
   "outputs": [
    {
     "data": {
      "text/plain": [
       "array(['US', 'AL', 'AK', 'AZ', 'AR', 'CA', 'CO', 'CT', 'DE', 'DC', 'FL',\n",
       "       'GA', 'HI', 'ID', 'IL', 'IN', 'IA', 'KS', 'KY', 'LA', 'ME', 'MD',\n",
       "       'MA', 'MI', 'MN', 'MS', 'MO', 'MT', 'NE', 'NV', 'NH', 'NJ', 'NM',\n",
       "       'NY', 'NC', 'ND', 'OH', 'OK', 'OR', 'PA', 'RI', 'SC', 'SD', 'TN',\n",
       "       'TX', 'UT', 'VT', 'VA', 'WA', 'WV', 'WI', 'WY', 'PR', nan],\n",
       "      dtype=object)"
      ]
     },
     "execution_count": 23,
     "metadata": {},
     "output_type": "execute_result"
    }
   ],
   "source": [
    "data['State'].unique()"
   ]
  },
  {
   "cell_type": "markdown",
   "id": "6dfde248-8099-488d-ade8-537db780b8ba",
   "metadata": {},
   "source": [
    "### County Column"
   ]
  },
  {
   "cell_type": "code",
   "execution_count": 29,
   "id": "7436f5e5-61d4-45d5-b3db-489c1846fe36",
   "metadata": {},
   "outputs": [
    {
     "name": "stdout",
     "output_type": "stream",
     "text": [
      "There are 2008 unique values in the County column\n"
     ]
    }
   ],
   "source": [
    "num_counties = data['County'].nunique()\n",
    "print(f'There are {num_counties} unique values in the County column')"
   ]
  },
  {
   "cell_type": "code",
   "execution_count": 30,
   "id": "d2ff8545-1dd0-4e09-bf23-c3258ddf4822",
   "metadata": {},
   "outputs": [
    {
     "data": {
      "text/plain": [
       "array(['United States', 'Alabama', 'Autauga County', ..., nan,\n",
       "       'Prince of Wales-Outer Ketchikan',\n",
       "       'Skagway-Hoonah-Angoon Census Ar'], dtype=object)"
      ]
     },
     "execution_count": 30,
     "metadata": {},
     "output_type": "execute_result"
    }
   ],
   "source": [
    "data['County'].unique()"
   ]
  },
  {
   "cell_type": "markdown",
   "id": "6b3a3cd3-c394-4d68-808c-1535c0f8c6fe",
   "metadata": {},
   "source": [
    "### Measure Name"
   ]
  },
  {
   "cell_type": "code",
   "execution_count": 32,
   "id": "23a8a72d-4fb1-4033-ab4e-543d11a69072",
   "metadata": {},
   "outputs": [
    {
     "name": "stdout",
     "output_type": "stream",
     "text": [
      "There are 12 unique values in the Measure Name column\n"
     ]
    }
   ],
   "source": [
    "num_measures = data['Measure name'].nunique()\n",
    "print(f'There are {num_measures} unique values in the Measure Name column')"
   ]
  },
  {
   "cell_type": "code",
   "execution_count": 33,
   "id": "3344480b-6bcb-470e-9da1-49e1a65f8bab",
   "metadata": {},
   "outputs": [
    {
     "data": {
      "text/plain": [
       "array(['Violent crime rate', 'Unemployment', 'Children in poverty', nan,\n",
       "       'Diabetic screening', 'Mammography screening',\n",
       "       'Preventable hospital stays', 'Uninsured',\n",
       "       'Sexually transmitted infections', 'Physical inactivity',\n",
       "       'Adult obesity', 'Premature Death',\n",
       "       'Daily fine particulate matter'], dtype=object)"
      ]
     },
     "execution_count": 33,
     "metadata": {},
     "output_type": "execute_result"
    }
   ],
   "source": [
    "data['Measure name'].unique()"
   ]
  },
  {
   "cell_type": "markdown",
   "id": "88e913ba-ae72-4ad6-bfb9-e17219f83082",
   "metadata": {},
   "source": [
    "### Plot by state, Violent Crime Rate"
   ]
  },
  {
   "cell_type": "code",
   "execution_count": 126,
   "id": "0a39d6b0-830a-4cbe-87c9-bf82da075675",
   "metadata": {},
   "outputs": [],
   "source": [
    "plt.rcParams['figure.figsize'] = (10, 8)"
   ]
  },
  {
   "cell_type": "code",
   "execution_count": 138,
   "id": "4647ccb2-63f6-4f70-b53f-a590358b0528",
   "metadata": {},
   "outputs": [
    {
     "data": {
      "image/png": "[encoded data removed]",
      "text/plain": [
       "<Figure size 720x576 with 1 Axes>"
      ]
     },
     "metadata": {},
     "output_type": "display_data"
    }
   ],
   "source": [
    "sns.set_context(\"poster\")\n",
    "sns.set_style(\"whitegrid\")\n",
    "g = sns.lineplot(x=\"Year span\", y=\"Raw value\",\n",
    "             data=ca_crime.loc[ca_crime['County'] == \"California\"]);\n",
    "# Rotate x-tick labels\n",
    "plt.xticks(rotation=45);\n",
    "g.set_title(\"Violent Crime Rate Over Time - California\");"
   ]
  }
 ],
 "metadata": {
  "kernelspec": {
   "display_name": "Python 3",
   "language": "python",
   "name": "python3"
  },
  "language_info": {
   "codemirror_mode": {
    "name": "ipython",
    "version": 3
   },
   "file_extension": ".py",
   "mimetype": "text/x-python",
   "name": "python",
   "nbconvert_exporter": "python",
   "pygments_lexer": "ipython3",
   "version": "3.8.8"
  }
 },
 "nbformat": 4,
 "nbformat_minor": 5
}
